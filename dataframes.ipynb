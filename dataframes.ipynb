{
 "cells": [
  {
   "cell_type": "code",
   "execution_count": 3,
   "metadata": {},
   "outputs": [
    {
     "data": {
      "text/html": [
       "<div>\n",
       "<style scoped>\n",
       "    .dataframe tbody tr th:only-of-type {\n",
       "        vertical-align: middle;\n",
       "    }\n",
       "\n",
       "    .dataframe tbody tr th {\n",
       "        vertical-align: top;\n",
       "    }\n",
       "\n",
       "    .dataframe thead th {\n",
       "        text-align: right;\n",
       "    }\n",
       "</style>\n",
       "<table border=\"1\" class=\"dataframe\">\n",
       "  <thead>\n",
       "    <tr style=\"text-align: right;\">\n",
       "      <th></th>\n",
       "      <th>Fecha;Vendedor;Región;Artículo;Categoría;Unidades;Ganancia</th>\n",
       "    </tr>\n",
       "  </thead>\n",
       "  <tbody>\n",
       "    <tr>\n",
       "      <th>1/1/2016;Steve Ashton;Norte;Medias Femeninas;Vestimenta;6;18</th>\n",
       "      <td>0</td>\n",
       "    </tr>\n",
       "    <tr>\n",
       "      <th>1/1/2016;Trevor Snodgrass;Oeste;Chocolate;Comestibles;8;3</th>\n",
       "      <td>84</td>\n",
       "    </tr>\n",
       "    <tr>\n",
       "      <th>1/1/2016;Sarah Bond;Sur;Gorras;Vestimenta;3;6</th>\n",
       "      <td>30</td>\n",
       "    </tr>\n",
       "    <tr>\n",
       "      <th>1/1/2016;Desmond Delaney;Sur;Sánguche de Queso;Comestibles;9;14</th>\n",
       "      <td>40</td>\n",
       "    </tr>\n",
       "    <tr>\n",
       "      <th>1/1/2016;Desmond Delaney;Este;Chocolate;Comestibles;14;6</th>\n",
       "      <td>72</td>\n",
       "    </tr>\n",
       "    <tr>\n",
       "      <th>...</th>\n",
       "      <td>...</td>\n",
       "    </tr>\n",
       "    <tr>\n",
       "      <th>31/1/2016;Sarah Bond;Sur;Bufanda;Vestimenta;6;16</th>\n",
       "      <td>50</td>\n",
       "    </tr>\n",
       "    <tr>\n",
       "      <th>31/1/2016;Dustin Gee;Este;Sandalias;Vestimenta;11;115</th>\n",
       "      <td>50</td>\n",
       "    </tr>\n",
       "    <tr>\n",
       "      <th>31/1/2016;Dustin Gee;Este;Sánguche de Queso;Comestibles;4;6</th>\n",
       "      <td>40</td>\n",
       "    </tr>\n",
       "    <tr>\n",
       "      <th>31/1/2016;Dustin Gee;Norte;Escobillón;Hogar;8;6</th>\n",
       "      <td>80</td>\n",
       "    </tr>\n",
       "    <tr>\n",
       "      <th>31/1/2016;Trevor Snodgrass;Sur;Pepinillo;Comestibles;7;2</th>\n",
       "      <td>10</td>\n",
       "    </tr>\n",
       "  </tbody>\n",
       "</table>\n",
       "<p>460 rows × 1 columns</p>\n",
       "</div>"
      ],
      "text/plain": [
       "                                                    Fecha;Vendedor;Región;Artículo;Categoría;Unidades;Ganancia\n",
       "1/1/2016;Steve Ashton;Norte;Medias Femeninas;Ve...                                                  0         \n",
       "1/1/2016;Trevor Snodgrass;Oeste;Chocolate;Comes...                                                 84         \n",
       "1/1/2016;Sarah Bond;Sur;Gorras;Vestimenta;3;6                                                      30         \n",
       "1/1/2016;Desmond Delaney;Sur;Sánguche de Queso;...                                                 40         \n",
       "1/1/2016;Desmond Delaney;Este;Chocolate;Comesti...                                                 72         \n",
       "...                                                                                               ...         \n",
       "31/1/2016;Sarah Bond;Sur;Bufanda;Vestimenta;6;16                                                   50         \n",
       "31/1/2016;Dustin Gee;Este;Sandalias;Vestimenta;...                                                 50         \n",
       "31/1/2016;Dustin Gee;Este;Sánguche de Queso;Com...                                                 40         \n",
       "31/1/2016;Dustin Gee;Norte;Escobillón;Hogar;8;6                                                    80         \n",
       "31/1/2016;Trevor Snodgrass;Sur;Pepinillo;Comest...                                                 10         \n",
       "\n",
       "[460 rows x 1 columns]"
      ]
     },
     "execution_count": 3,
     "metadata": {},
     "output_type": "execute_result"
    }
   ],
   "source": [
    "import pandas as pd \n",
    "\n",
    "data = pd.read_csv(\"ventas.csv\", delimiter=\";\")\n",
    "data"
   ]
  },
  {
   "cell_type": "code",
   "execution_count": null,
   "metadata": {},
   "outputs": [
    {
     "ename": "",
     "evalue": "",
     "output_type": "error",
     "traceback": [
      "\u001b[1;31mRunning cells with 'venv (Python 3.12.4)' requires the ipykernel package.\n",
      "\u001b[1;31mRun the following command to install 'ipykernel' into the Python environment. \n",
      "\u001b[1;31mCommand: '/home/juanandresyounghoyos/Documents/analisis-de-Datos-con-Pandas-y-Python./venv/bin/python -m pip install ipykernel -U --force-reinstall'"
     ]
    }
   ],
   "source": []
  }
 ],
 "metadata": {
  "kernelspec": {
   "display_name": "Python 3 (ipykernel)",
   "language": "python",
   "name": "python3"
  },
  "language_info": {
   "codemirror_mode": {
    "name": "ipython",
    "version": 3
   },
   "file_extension": ".py",
   "mimetype": "text/x-python",
   "name": "python",
   "nbconvert_exporter": "python",
   "pygments_lexer": "ipython3",
   "version": "3.12.4"
  }
 },
 "nbformat": 4,
 "nbformat_minor": 4
}
